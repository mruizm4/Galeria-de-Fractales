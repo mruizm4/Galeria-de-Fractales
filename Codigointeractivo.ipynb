{
 "cells": [
  {
   "cell_type": "code",
   "execution_count": null,
   "metadata": {},
   "outputs": [],
   "source": [
    "from __future__ import print_function\n",
    "from ipywidgets import interact, interactive, fixed, interact_manual\n",
    "import ipywidgets as widgets\n",
    "import matplotlib.pyplot as plt\n",
    "from PIL import Image\n",
    "import sympy as spp\n",
    "imgx=800\n",
    "imgy=800\n",
    "imgz=800\n",
    "image=Image.new(\"RGB\",(imgx,imgy))\n",
    "image.putpixel((100,100),(255,255,255))\n",
    "xa=-2\n",
    "xb=2\n",
    "ya=-2\n",
    "yb=2\n",
    "maxit=30\n",
    "h=1e-6\n",
    "eps=1e-3\n",
    "@interact(k=[2,3,4,5,6,7,8,9],R=[1,5,10,15,20,25,30,35,40,45,50,55,60,65,70,75,80,85,90,95,100],G=[1,5,10,15,20,25,30,35,40,45,50,55,60,65,70,75,80,85,90,95,100],B=[1,5,10,15,20,25,30,35,40,45,50,55,60,65,70,75,80,85,90,95,100])\n",
    "def Q(k,R,G,B):\n",
    "    k=int(k)\n",
    "    def f(z):\n",
    "        return z**k-k-k\n",
    "    for y in range (imgy):\n",
    "        zy=y*(yb-ya)/(imgy-1)+ya\n",
    "        for x in range (imgx):\n",
    "            zx=x*(xb-xa)/(imgx-1)+xa\n",
    "            z=complex(zx,zy)\n",
    "            for i in range (maxit):\n",
    "                dz=(f(z+complex(h,h))-f(z))/complex(h,h)\n",
    "                z0=z-f(z)/dz\n",
    "                if abs (z0-z)<eps:\n",
    "                    break\n",
    "                R=int(R)\n",
    "                G=int(G)\n",
    "                B=int(B)\n",
    "                z=z0\n",
    "                r=i*R\n",
    "                g=i*G\n",
    "                b=i*B\n",
    "                image.putpixel((x,y),(r,g,b))\n",
    "    return image"
   ]
  }
 ],
 "metadata": {
  "kernelspec": {
   "display_name": "Python 3",
   "language": "python",
   "name": "python3"
  },
  "language_info": {
   "codemirror_mode": {
    "name": "ipython",
    "version": 3
   },
   "file_extension": ".py",
   "mimetype": "text/x-python",
   "name": "python",
   "nbconvert_exporter": "python",
   "pygments_lexer": "ipython3",
   "version": "3.7.4"
  }
 },
 "nbformat": 4,
 "nbformat_minor": 2
}
